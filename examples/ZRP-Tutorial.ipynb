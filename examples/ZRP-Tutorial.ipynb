{
 "cells": [
  {
   "cell_type": "markdown",
   "metadata": {},
   "source": [
    "# ZRP Example Usage\n",
    "The purpose of this notebook is to illustrate how to use ZRP, the main class of the zrp package that processes user input data &  returns race/ethnicity predictions"
   ]
  },
  {
   "cell_type": "code",
   "execution_count": 1,
   "metadata": {},
   "outputs": [],
   "source": [
    "%load_ext autoreload\n",
    "%autoreload 2\n",
    "%config Completer.use_jedi=False"
   ]
  },
  {
   "cell_type": "code",
   "execution_count": 2,
   "metadata": {},
   "outputs": [],
   "source": [
    "from os.path import join, expanduser\n",
    "import pandas as pd\n",
    "import sys\n",
    "import os\n",
    "import re\n",
    "import warnings"
   ]
  },
  {
   "cell_type": "markdown",
   "metadata": {},
   "source": [
    "## Set source code path here"
   ]
  },
  {
   "cell_type": "code",
   "execution_count": 3,
   "metadata": {},
   "outputs": [],
   "source": [
    "warnings.filterwarnings(action='once')\n",
    "home = expanduser('~')\n",
    "\n",
    "src_path = os.getcwd()\n",
    "sys.path.append(src_path)"
   ]
  },
  {
   "cell_type": "code",
   "execution_count": 4,
   "metadata": {},
   "outputs": [],
   "source": [
    "from zrp import ZRP\n",
    "from zrp.prepare.utils import load_file, load_json"
   ]
  },
  {
   "cell_type": "markdown",
   "metadata": {},
   "source": [
    "## Load sample data for prediction\n",
    "Load list of New Jersey Mayors downloaded from https://www.nj.gov/dca/home/2022mayors.csv "
   ]
  },
  {
   "cell_type": "code",
   "execution_count": 5,
   "metadata": {},
   "outputs": [
    {
     "data": {
      "text/plain": [
       "(565, 18)"
      ]
     },
     "execution_count": 5,
     "metadata": {},
     "output_type": "execute_result"
    }
   ],
   "source": [
    "nj_mayors = load_file(src_path + \"/2022-nj-mayors.csv\")\n",
    "nj_mayors.shape"
   ]
  },
  {
   "cell_type": "code",
   "execution_count": 6,
   "metadata": {},
   "outputs": [
    {
     "data": {
      "text/html": [
       "<div>\n",
       "<style scoped>\n",
       "    .dataframe tbody tr th:only-of-type {\n",
       "        vertical-align: middle;\n",
       "    }\n",
       "\n",
       "    .dataframe tbody tr th {\n",
       "        vertical-align: top;\n",
       "    }\n",
       "\n",
       "    .dataframe thead th {\n",
       "        text-align: right;\n",
       "    }\n",
       "</style>\n",
       "<table border=\"1\" class=\"dataframe\">\n",
       "  <thead>\n",
       "    <tr style=\"text-align: right;\">\n",
       "      <th></th>\n",
       "      <th>MUNI CODE</th>\n",
       "      <th>MUNI NAME</th>\n",
       "      <th>COUNTY</th>\n",
       "      <th>ADDRESS 1</th>\n",
       "      <th>ADDRESS 2</th>\n",
       "      <th>CITY</th>\n",
       "      <th>STATE</th>\n",
       "      <th>ZIP</th>\n",
       "      <th>PHONE</th>\n",
       "      <th>FAX</th>\n",
       "      <th>MAYOR NAME</th>\n",
       "      <th>TERM START</th>\n",
       "      <th>TERM END</th>\n",
       "      <th>FORM</th>\n",
       "      <th>TERM LEGNTH</th>\n",
       "      <th>EMAIL</th>\n",
       "      <th>SOCIAL MEDIA HANDLE</th>\n",
       "      <th>Municipal Contact List</th>\n",
       "    </tr>\n",
       "  </thead>\n",
       "  <tbody>\n",
       "    <tr>\n",
       "      <th>0</th>\n",
       "      <td>1330</td>\n",
       "      <td>Aberdeen Township</td>\n",
       "      <td>Monmouth</td>\n",
       "      <td>One Aberdeen Square</td>\n",
       "      <td>NaN</td>\n",
       "      <td>Aberdeen</td>\n",
       "      <td>NJ</td>\n",
       "      <td>07747-2300</td>\n",
       "      <td>(732) 583-4200</td>\n",
       "      <td>NaN</td>\n",
       "      <td>Fred Tagliarini</td>\n",
       "      <td>NaN</td>\n",
       "      <td>12/31/2025</td>\n",
       "      <td>COUNCIL-MANAGER</td>\n",
       "      <td>4</td>\n",
       "      <td>fred.tagliarini@aberdeennj.org</td>\n",
       "      <td>NaN</td>\n",
       "      <td>NaN</td>\n",
       "    </tr>\n",
       "    <tr>\n",
       "      <th>1</th>\n",
       "      <td>0101</td>\n",
       "      <td>Absecon City</td>\n",
       "      <td>Atlantic</td>\n",
       "      <td>Absecon Municipal Complex</td>\n",
       "      <td>500 Mill Road</td>\n",
       "      <td>Absecon</td>\n",
       "      <td>NJ</td>\n",
       "      <td>08201</td>\n",
       "      <td>(609) 641-0663</td>\n",
       "      <td>(609) 645-5098</td>\n",
       "      <td>Kimberly Horton</td>\n",
       "      <td>NaN</td>\n",
       "      <td>12/31/2024</td>\n",
       "      <td>MAYOR-COUNCIL</td>\n",
       "      <td>3</td>\n",
       "      <td>khorton@abseconnj.org</td>\n",
       "      <td>NaN</td>\n",
       "      <td>NaN</td>\n",
       "    </tr>\n",
       "    <tr>\n",
       "      <th>2</th>\n",
       "      <td>1001</td>\n",
       "      <td>Alexandria Township</td>\n",
       "      <td>Hunterdon</td>\n",
       "      <td>782 Frenchtown Road</td>\n",
       "      <td>NaN</td>\n",
       "      <td>Milford</td>\n",
       "      <td>NJ</td>\n",
       "      <td>08848</td>\n",
       "      <td>(908) 996-7071</td>\n",
       "      <td>NaN</td>\n",
       "      <td>Gabe Plumer</td>\n",
       "      <td>NaN</td>\n",
       "      <td>12/31/2022</td>\n",
       "      <td>TOWNSHIP</td>\n",
       "      <td>3</td>\n",
       "      <td>clerk@alexandrianj.gov</td>\n",
       "      <td>NaN</td>\n",
       "      <td>NaN</td>\n",
       "    </tr>\n",
       "    <tr>\n",
       "      <th>3</th>\n",
       "      <td>2101</td>\n",
       "      <td>Allamuchy Township</td>\n",
       "      <td>Warren</td>\n",
       "      <td>Post Office Box A</td>\n",
       "      <td>NaN</td>\n",
       "      <td>Allamuchy</td>\n",
       "      <td>NJ</td>\n",
       "      <td>07820</td>\n",
       "      <td>(908) 852-5132</td>\n",
       "      <td>NaN</td>\n",
       "      <td>Rosemary Tuohy</td>\n",
       "      <td>NaN</td>\n",
       "      <td>12/31/2024</td>\n",
       "      <td>FAULKNER ACT</td>\n",
       "      <td>3</td>\n",
       "      <td>mayor@allamuchynj.org</td>\n",
       "      <td>NaN</td>\n",
       "      <td>NaN</td>\n",
       "    </tr>\n",
       "    <tr>\n",
       "      <th>4</th>\n",
       "      <td>0201</td>\n",
       "      <td>Allendale Borough</td>\n",
       "      <td>Bergen</td>\n",
       "      <td>500 West Crescent Avenue</td>\n",
       "      <td>NaN</td>\n",
       "      <td>Allendale</td>\n",
       "      <td>NJ</td>\n",
       "      <td>07401</td>\n",
       "      <td>(201) 818-4400</td>\n",
       "      <td>NaN</td>\n",
       "      <td>Ari Bernstein</td>\n",
       "      <td>NaN</td>\n",
       "      <td>12/31/2022</td>\n",
       "      <td>NaN</td>\n",
       "      <td>NaN</td>\n",
       "      <td>aribernstein@allendalenj.gov</td>\n",
       "      <td>NaN</td>\n",
       "      <td>NaN</td>\n",
       "    </tr>\n",
       "    <tr>\n",
       "      <th>...</th>\n",
       "      <td>...</td>\n",
       "      <td>...</td>\n",
       "      <td>...</td>\n",
       "      <td>...</td>\n",
       "      <td>...</td>\n",
       "      <td>...</td>\n",
       "      <td>...</td>\n",
       "      <td>...</td>\n",
       "      <td>...</td>\n",
       "      <td>...</td>\n",
       "      <td>...</td>\n",
       "      <td>...</td>\n",
       "      <td>...</td>\n",
       "      <td>...</td>\n",
       "      <td>...</td>\n",
       "      <td>...</td>\n",
       "      <td>...</td>\n",
       "      <td>...</td>\n",
       "    </tr>\n",
       "    <tr>\n",
       "      <th>560</th>\n",
       "      <td>0269</td>\n",
       "      <td>Wood-Ridge Borough</td>\n",
       "      <td>Bergen</td>\n",
       "      <td>85 Humboldt Street</td>\n",
       "      <td>NaN</td>\n",
       "      <td>Wood-Ridge</td>\n",
       "      <td>NJ</td>\n",
       "      <td>07075-2344</td>\n",
       "      <td>(201) 939-0202</td>\n",
       "      <td>NaN</td>\n",
       "      <td>Paul A Sarlo</td>\n",
       "      <td>NaN</td>\n",
       "      <td>12/31/2023</td>\n",
       "      <td>NaN</td>\n",
       "      <td>NaN</td>\n",
       "      <td>psarlo@njwoodridge.org</td>\n",
       "      <td>NaN</td>\n",
       "      <td>NaN</td>\n",
       "    </tr>\n",
       "    <tr>\n",
       "      <th>561</th>\n",
       "      <td>1715</td>\n",
       "      <td>Woodstown Borough</td>\n",
       "      <td>Salem</td>\n",
       "      <td>Post Office Box 286</td>\n",
       "      <td>NaN</td>\n",
       "      <td>Woodstown</td>\n",
       "      <td>NJ</td>\n",
       "      <td>08098</td>\n",
       "      <td>(856) 769-2200</td>\n",
       "      <td>NaN</td>\n",
       "      <td>Donald Dietrich</td>\n",
       "      <td>NaN</td>\n",
       "      <td>12/31/2023</td>\n",
       "      <td>NaN</td>\n",
       "      <td>NaN</td>\n",
       "      <td>Don.dietrich@comcast.net</td>\n",
       "      <td>NaN</td>\n",
       "      <td>NaN</td>\n",
       "    </tr>\n",
       "    <tr>\n",
       "      <th>562</th>\n",
       "      <td>0824</td>\n",
       "      <td>Woolwich Township</td>\n",
       "      <td>Gloucester</td>\n",
       "      <td>120 Village Green Drive</td>\n",
       "      <td>NaN</td>\n",
       "      <td>Woolwich Township</td>\n",
       "      <td>NJ</td>\n",
       "      <td>08085-3180</td>\n",
       "      <td>(856) 467-2666</td>\n",
       "      <td>NaN</td>\n",
       "      <td>Craig Frederick</td>\n",
       "      <td>NaN</td>\n",
       "      <td>12/31/2024</td>\n",
       "      <td>NaN</td>\n",
       "      <td>NaN</td>\n",
       "      <td>cfrederick@woolwichtwp.org</td>\n",
       "      <td>NaN</td>\n",
       "      <td>NaN</td>\n",
       "    </tr>\n",
       "    <tr>\n",
       "      <th>563</th>\n",
       "      <td>0340</td>\n",
       "      <td>Wrightstown Borough</td>\n",
       "      <td>Burlington</td>\n",
       "      <td>21 Saylors Pond Road</td>\n",
       "      <td>NaN</td>\n",
       "      <td>Wrightstown</td>\n",
       "      <td>NJ</td>\n",
       "      <td>08562</td>\n",
       "      <td>(609) 723-4450</td>\n",
       "      <td>(609) 723-7137</td>\n",
       "      <td>Donald Cottrell</td>\n",
       "      <td>NaN</td>\n",
       "      <td>12/31/2022</td>\n",
       "      <td>NaN</td>\n",
       "      <td>NaN</td>\n",
       "      <td>mayor@wrightstownborough.com</td>\n",
       "      <td>NaN</td>\n",
       "      <td>NaN</td>\n",
       "    </tr>\n",
       "    <tr>\n",
       "      <th>564</th>\n",
       "      <td>0270</td>\n",
       "      <td>Wyckoff Township</td>\n",
       "      <td>Bergen</td>\n",
       "      <td>Memorial Town Hall</td>\n",
       "      <td>Scott Plaza</td>\n",
       "      <td>Wyckoff</td>\n",
       "      <td>NJ</td>\n",
       "      <td>07481</td>\n",
       "      <td>(201) 891-7000</td>\n",
       "      <td>NaN</td>\n",
       "      <td>Rudolf E. Boonstra</td>\n",
       "      <td>NaN</td>\n",
       "      <td>12/31/2022</td>\n",
       "      <td>NaN</td>\n",
       "      <td>NaN</td>\n",
       "      <td>rboonstra@wyckoff-nj.com</td>\n",
       "      <td>NaN</td>\n",
       "      <td>NaN</td>\n",
       "    </tr>\n",
       "  </tbody>\n",
       "</table>\n",
       "<p>565 rows × 18 columns</p>\n",
       "</div>"
      ],
      "text/plain": [
       "    MUNI CODE            MUNI NAME      COUNTY                  ADDRESS 1  \\\n",
       "0        1330    Aberdeen Township    Monmouth        One Aberdeen Square   \n",
       "1        0101         Absecon City    Atlantic  Absecon Municipal Complex   \n",
       "2        1001  Alexandria Township   Hunterdon        782 Frenchtown Road   \n",
       "3        2101   Allamuchy Township      Warren          Post Office Box A   \n",
       "4        0201    Allendale Borough      Bergen   500 West Crescent Avenue   \n",
       "..        ...                  ...         ...                        ...   \n",
       "560      0269   Wood-Ridge Borough      Bergen         85 Humboldt Street   \n",
       "561      1715    Woodstown Borough       Salem        Post Office Box 286   \n",
       "562      0824    Woolwich Township  Gloucester    120 Village Green Drive   \n",
       "563      0340  Wrightstown Borough  Burlington       21 Saylors Pond Road   \n",
       "564      0270     Wyckoff Township      Bergen         Memorial Town Hall   \n",
       "\n",
       "         ADDRESS 2               CITY STATE         ZIP           PHONE  \\\n",
       "0              NaN           Aberdeen    NJ  07747-2300  (732) 583-4200   \n",
       "1    500 Mill Road            Absecon    NJ       08201  (609) 641-0663   \n",
       "2              NaN            Milford    NJ       08848  (908) 996-7071   \n",
       "3              NaN          Allamuchy    NJ       07820  (908) 852-5132   \n",
       "4              NaN          Allendale    NJ       07401  (201) 818-4400   \n",
       "..             ...                ...   ...         ...             ...   \n",
       "560            NaN         Wood-Ridge    NJ  07075-2344  (201) 939-0202   \n",
       "561            NaN          Woodstown    NJ       08098  (856) 769-2200   \n",
       "562            NaN  Woolwich Township    NJ  08085-3180  (856) 467-2666   \n",
       "563            NaN        Wrightstown    NJ       08562  (609) 723-4450   \n",
       "564    Scott Plaza            Wyckoff    NJ       07481  (201) 891-7000   \n",
       "\n",
       "                FAX          MAYOR NAME TERM START    TERM END  \\\n",
       "0               NaN     Fred Tagliarini        NaN  12/31/2025   \n",
       "1    (609) 645-5098     Kimberly Horton        NaN  12/31/2024   \n",
       "2               NaN         Gabe Plumer        NaN  12/31/2022   \n",
       "3               NaN      Rosemary Tuohy        NaN  12/31/2024   \n",
       "4               NaN       Ari Bernstein        NaN  12/31/2022   \n",
       "..              ...                 ...        ...         ...   \n",
       "560             NaN        Paul A Sarlo        NaN  12/31/2023   \n",
       "561             NaN     Donald Dietrich        NaN  12/31/2023   \n",
       "562             NaN     Craig Frederick        NaN  12/31/2024   \n",
       "563  (609) 723-7137     Donald Cottrell        NaN  12/31/2022   \n",
       "564             NaN  Rudolf E. Boonstra        NaN  12/31/2022   \n",
       "\n",
       "                FORM TERM LEGNTH                           EMAIL  \\\n",
       "0    COUNCIL-MANAGER           4  fred.tagliarini@aberdeennj.org   \n",
       "1      MAYOR-COUNCIL           3           khorton@abseconnj.org   \n",
       "2           TOWNSHIP           3          clerk@alexandrianj.gov   \n",
       "3       FAULKNER ACT           3           mayor@allamuchynj.org   \n",
       "4                NaN         NaN    aribernstein@allendalenj.gov   \n",
       "..               ...         ...                             ...   \n",
       "560              NaN         NaN          psarlo@njwoodridge.org   \n",
       "561              NaN         NaN        Don.dietrich@comcast.net   \n",
       "562              NaN         NaN      cfrederick@woolwichtwp.org   \n",
       "563              NaN         NaN    mayor@wrightstownborough.com   \n",
       "564              NaN         NaN        rboonstra@wyckoff-nj.com   \n",
       "\n",
       "    SOCIAL MEDIA HANDLE Municipal Contact List  \n",
       "0                   NaN                    NaN  \n",
       "1                   NaN                    NaN  \n",
       "2                   NaN                    NaN  \n",
       "3                   NaN                    NaN  \n",
       "4                   NaN                    NaN  \n",
       "..                  ...                    ...  \n",
       "560                 NaN                    NaN  \n",
       "561                 NaN                    NaN  \n",
       "562                 NaN                    NaN  \n",
       "563                 NaN                    NaN  \n",
       "564                 NaN                    NaN  \n",
       "\n",
       "[565 rows x 18 columns]"
      ]
     },
     "execution_count": 6,
     "metadata": {},
     "output_type": "execute_result"
    }
   ],
   "source": [
    "nj_mayors"
   ]
  },
  {
   "cell_type": "markdown",
   "metadata": {},
   "source": [
    "### Wrangle NJ mayor data for predictions\n",
    "Prepare the NJ mayor data.  This parsing of the NJ mayors file will leave some NA's, but it is sufficient for demonstration purposes\n"
   ]
  },
  {
   "cell_type": "code",
   "execution_count": null,
   "metadata": {},
   "outputs": [],
   "source": [
    "zrp_sample = pd.DataFrame(columns=['first_name', 'middle_name', 'last_name', 'house_number', 'street_address', 'city', 'state', 'zip_code'])"
   ]
  },
  {
   "cell_type": "markdown",
   "metadata": {},
   "source": [
    "Prepare Names"
   ]
  },
  {
   "cell_type": "code",
   "execution_count": null,
   "metadata": {},
   "outputs": [],
   "source": [
    "split_mayor_names = nj_mayors['MAYOR NAME'].str.split(' ')\n",
    "zrp_sample['first_name'] = split_mayor_names.str[0]\n",
    "zrp_sample['last_name'] = split_mayor_names.str[-1]"
   ]
  },
  {
   "cell_type": "markdown",
   "metadata": {},
   "source": [
    "City, State, Zip"
   ]
  },
  {
   "cell_type": "code",
   "execution_count": null,
   "metadata": {},
   "outputs": [],
   "source": [
    "zrp_sample['city'] = nj_mayors['CITY']\n",
    "zrp_sample['state'] = nj_mayors['STATE']\n",
    "zrp_sample['zip_code'] = nj_mayors['ZIP']"
   ]
  },
  {
   "cell_type": "markdown",
   "metadata": {},
   "source": [
    "Address"
   ]
  },
  {
   "cell_type": "code",
   "execution_count": null,
   "metadata": {},
   "outputs": [],
   "source": [
    "zrp_sample['house_number'] = nj_mayors['ADDRESS 1'].str.extract('([0-9]+)')\n",
    "zrp_sample['street_address'] = nj_mayors['ADDRESS 1'].str.extract('.*[0-9]+([^0-9]+)')\n"
   ]
  },
  {
   "cell_type": "code",
   "execution_count": null,
   "metadata": {},
   "outputs": [],
   "source": [
    "zrp_sample['ZEST_KEY'] = zrp_sample.index.astype(str)  #must specify key to establish correspondence between inputs and outputs\n",
    "zrp_sample"
   ]
  },
  {
   "cell_type": "markdown",
   "metadata": {},
   "source": [
    "### Invoke the Zest Race Predictor on the sample data"
   ]
  },
  {
   "cell_type": "markdown",
   "metadata": {},
   "source": [
    "To run with custom names provide a mapping of custom column names to the expected column names, for example:"
   ]
  },
  {
   "cell_type": "markdown",
   "metadata": {},
   "source": [
    "`        ZRP(**{'first_name':'example_first_name',\n",
    "               'middle_name':'example_middle_name',\n",
    "               'last_name':'example_last_name',\n",
    "               'house_number':'example_house_number',\n",
    "               'street_address':'example_street_address',\n",
    "               'zip_code':'example_zip_code',\n",
    "               'state':'example_state',\n",
    "               'census_tract':'example_census_tract',\n",
    "               'block_group':'example_block_group',\n",
    "        })`\n",
    "        \n",
    "All of the above dictionary keys are recommended to provide. If Census tract or Census block group are unavailable, `ZRP()` will geocode the input data using Census shapefile data. If house number also is not available `ZRP()` will use zip/postal codes and underlying data to return proxies. While all other columns are required if columns like middle name (or even first or last name) are highly or fully missing `ZRP()` will still be able to generate proxies. To accommodate more fair audit workflows we have enabled generating ZRP (name + geo), BISG (name + geo), ZRP name-only, and ZRP geo-only proxies."
   ]
  },
  {
   "cell_type": "markdown",
   "metadata": {},
   "source": [
    "Initialize, fit & transform `ZRP()`"
   ]
  },
  {
   "cell_type": "code",
   "execution_count": null,
   "metadata": {},
   "outputs": [],
   "source": [
    "%%time\n",
    "zest_race_predictor = ZRP()\n",
    "zest_race_predictor.fit()\n",
    "zrp_output = zest_race_predictor.transform(zrp_sample)"
   ]
  },
  {
   "cell_type": "markdown",
   "metadata": {},
   "source": [
    "### Inspect the output and join"
   ]
  },
  {
   "cell_type": "code",
   "execution_count": null,
   "metadata": {},
   "outputs": [],
   "source": [
    "zrp_output"
   ]
  },
  {
   "cell_type": "markdown",
   "metadata": {},
   "source": [
    "### Check the most likely Hispanic "
   ]
  },
  {
   "cell_type": "code",
   "execution_count": null,
   "metadata": {},
   "outputs": [],
   "source": [
    "zrp_output.nlargest(10, \"HISPANIC\")"
   ]
  },
  {
   "cell_type": "markdown",
   "metadata": {},
   "source": [
    "### Check the most likely Black"
   ]
  },
  {
   "cell_type": "code",
   "execution_count": null,
   "metadata": {},
   "outputs": [],
   "source": [
    "zrp_output.nlargest(10, \"BLACK\")"
   ]
  },
  {
   "cell_type": "markdown",
   "metadata": {},
   "source": [
    "BISG proxies are saved by default when `ZRP` is ran. Below we import the BISG proxies in."
   ]
  },
  {
   "cell_type": "code",
   "execution_count": null,
   "metadata": {},
   "outputs": [],
   "source": [
    "bisg_output = pd.read_feather(\"artifacts/bisg_proxy_output.feather\")"
   ]
  },
  {
   "cell_type": "code",
   "execution_count": null,
   "metadata": {},
   "outputs": [],
   "source": [
    "bisg_output.head()"
   ]
  },
  {
   "cell_type": "code",
   "execution_count": null,
   "metadata": {},
   "outputs": [],
   "source": [
    "bisg_output"
   ]
  },
  {
   "cell_type": "markdown",
   "metadata": {},
   "source": [
    "How many proxies does BISG return?"
   ]
  },
  {
   "cell_type": "code",
   "execution_count": null,
   "metadata": {},
   "outputs": [],
   "source": [
    "f\"Out of {bisg_output.shape[0]} records only {bisg_output[bisg_output.race_proxy.notna()].shape[0]} proxies are returned\"  "
   ]
  },
  {
   "cell_type": "markdown",
   "metadata": {},
   "source": [
    "How many proxies does ZRP return?"
   ]
  },
  {
   "cell_type": "code",
   "execution_count": null,
   "metadata": {},
   "outputs": [],
   "source": [
    "f\"Out of {zrp_output.shape[0]} records {zrp_output[zrp_output.race_proxy.notna()].shape[0]} proxies are returned\"  \n"
   ]
  }
 ],
 "metadata": {
  "kernelspec": {
   "display_name": "zrp5",
   "language": "python",
   "name": "zrp5"
  },
  "language_info": {
   "codemirror_mode": {
    "name": "ipython",
    "version": 3
   },
   "file_extension": ".py",
   "mimetype": "text/x-python",
   "name": "python",
   "nbconvert_exporter": "python",
   "pygments_lexer": "ipython3",
   "version": "3.7.7"
  }
 },
 "nbformat": 4,
 "nbformat_minor": 4
}
