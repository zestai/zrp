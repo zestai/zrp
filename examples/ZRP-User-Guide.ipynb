{
 "cells": [
  {
   "cell_type": "markdown",
   "metadata": {},
   "source": [
    "# Zest Race Predictor\n",
    "# User Guide\n",
    "---"
   ]
  },
  {
   "cell_type": "markdown",
   "metadata": {},
   "source": [
    "## Table of Contents:\n",
    "* [Introduction](#intro)\n",
    "* [Prerequisites](#prereq)\n",
    "    * [Classes, Objects, and Methods](#objects)\n",
    "    * [Files and Directories](#pr-archives)\n",
    "    * [Importing Modules](#pr-import)\n",
    "* [Example Notebooks](#examples)\n",
    "    * [All-In-One ZRP](#ex-zrp)\n",
    "    * [Preparing the Data](#ex-prep)\n",
    "    * [Predicting Race and Ethnicity](#ex-pred)\n",
    "    * [Making Basic Modifications](#ex-mod\")\n",
    "    * [Advanced Data Prepartions and Modifications](#ex-adv)\n",
    "    * [Building a Custom Predictor](#ex-custom)\n",
    "* [Troubleshooting](#trbl)\n",
    "* [Additional Resources](#readme)\n"
   ]
  },
  {
   "cell_type": "markdown",
   "metadata": {},
   "source": [
    "## Intro <a class=\"anchor\" id=\"intro\"></a>\n",
    "Zest Race Predictor (ZRP) is an open-source toolset that predicts the race and ethnicity of an individual based only their full name and location. It is more accurate than the current proxying method (BISG) and, by providing a better yardstick to measure bias and discrimination, it promises to improve equity outcomes in fair lending and other critical sectors such as health care, criminal justice, employment, and education.\n",
    "\n",
    "For decades, the financial services industry has been dogged by charges of discrimination. Part of the problem is the use of flawed fair lending analysis tools. You can’t fix what you can’t measure. And, right now, all the fair lending tests are off. The approval rates for Blacks and whites are wrong. Based on our analysis, millions of African Americans are currently being wrongly misclassified as white.  Tens of millions of white Americans are being misclassified as people of color.\n",
    "\n",
    "> It’s possible to create a fairer system. You have to bring problems to light to hold us all accountable."
   ]
  },
  {
   "cell_type": "markdown",
   "metadata": {},
   "source": [
    "## Prerequisites <a class=\"anchor\" id=\"prereq\"></a>\n",
    "The Zest Race Predictor proxies are generated using Python, but you do NOT need to know much Python to generate the race and ethnicity proxies. However, that being said, there are a few basic concepts about which are very helpful to know."
   ]
  },
  {
   "cell_type": "markdown",
   "metadata": {},
   "source": [
    "### Files and Directories<a class=\"anchor\" id=\"prereq\"></a>\n",
    "\n",
    "The Zest Race Predictor proxy generation uses a multitude of directories and files. Some of thesedirectories and files have to be downloaded, please refer to the installation section of the [README](https://github.com/zestai/zrp/blob/main/README.rst#install) for more details.\n",
    "\n",
    "\n",
    "> In Python, directory and file names are written with (single or double) quotes: e.g, `\"this_directory\"` or `\"that_filename.obj\"`. A sequence of directories delimited by a slash ('/') form a path: e.g., `\"this_directory/that_directory/lead_to/equity/\"`. If a path begins with a slash, it is a full or absolute path, `\"/root/this_directory/that_directory/lead_to/equity/\"`. The full path to a file is a sequence of directories ending with with a file name: `\"/root/this_directory/that_directory/lead_to/equity/is_access.obj\"`. A path begins with `\"~\"`, e.g., `\"~/path/to_my/files/\"`, is in a user's home directory, for example, `\"/home/user1/\"`. **It is not recommended to supply any path beginning with `\"~\"` to ZRP.**"
   ]
  },
  {
   "cell_type": "markdown",
   "metadata": {},
   "source": [
    "### Importing Modules<a class=\"anchor\" id=\"prereq\"></a>\n",
    "\n",
    "To use the Zest Race Predictor and supporting modules, you have to load it from somewhere. All modules can be imported from `zrp`. The main module can be imported by running:"
   ]
  },
  {
   "cell_type": "raw",
   "metadata": {},
   "source": [
    "from zrp import ZRP"
   ]
  },
  {
   "cell_type": "markdown",
   "metadata": {},
   "source": [
    "The imported ZRP module above is an all-in-one tool for race and ethnicity proxies. However the Zest Race Predictor comes with a suite of tools that can be useful additions to current fair research or audit processes.  If running ZRP piecemeal is a better fit then there are many modules you can load to:\n",
    "- prepare the input data\n",
    "- proxy race & ethnicity\n",
    "- build a custom model\n",
    "- get performance metrics\n",
    "- create support lookup tables"
   ]
  },
  {
   "cell_type": "markdown",
   "metadata": {},
   "source": [
    "## Example Notebooks<a class=\"anchor\" id=\"examples\"></a>\n",
    "There are Jupyter notebooks which explain how to use ZRP and supporting modules. "
   ]
  },
  {
   "cell_type": "markdown",
   "metadata": {},
   "source": [
    "### All-In-One ZRP<a class=\"anchor\" id=\"ex-zrp\"></a>\n",
    "The [ZRP_Tutorial.ipynb](https://github.com/zestai/zrp/blob/dev/examples/ZRP-Tutorial.ipynb) notebook goes through using ZRP() to generate race and ethnicity proxies. It all boils down to the following:\n",
    "\n",
    "     `zest_race_predictor = ZRP()`\n",
    "     `zest_race_predictor.fit()`\n",
    "     `zrp_output = zest_race_predictor.transform(data)`"
   ]
  },
  {
   "cell_type": "markdown",
   "metadata": {},
   "source": [
    "### Preparing the Data<a class=\"anchor\" id=\"ex-prep\"></a>\n",
    "\n",
    "The [preparing_the_data.ipynb](https://github.com/zestai/zrp/blob/dev/examples/prepare/preparing_the_data.ipynb) notebook initally goes through using ZRP_Prepare() preparing user input data for modeling or predicting race & ethnicty. For additional support please review the ZRP_Prepare sub-modules examples:\n",
    "- For basic processing of input data please refer to, [zsub_prepare_BasicProcessing.ipynb](https://github.com/zestai/zrp/blob/dev/examples/prepare/zsub_prepare_BasicProcessing.ipynb) \n",
    "- To map addresses to GEOIDs please refer to, [zsub_prepare_Geocoding.ipynb](https://github.com/zestai/zrp/blob/dev/examples/prepare/zsub_prepare_Geocoding.ipynb)\n",
    "- To integrate ACS data please refer to, [zsub_prepare_ModelingData.ipynb](https://github.com/zestai/zrp/blob/dev/examples/prepare/zsub_prepare_ModelingData.ipynb)\n",
    "\n",
    "### Predicting Race and Ethnicity<a class=\"anchor\" id=\"ex-pred\"></a>\n",
    "\n",
    "The [predicting_race_ethnicity.ipynb](https://github.com/zestai/zrp/blob/dev/examples/modeling/predicting_race_ethnicity.ipynb) notebook goes through using ZRP_Predict to produce race and ethnicity proxies. For additional support for custom processes please review the ZRP_Predict sub-module examples:\n",
    "- To generate standard BISG proxies please refer to, [zsub_predict_BISG.ipynb](https://github.com/zestai/zrp/blob/dev/examples/modeling/zsub_predict_BISG.ipynb)\n",
    "- To generate Zest Race Predictor proxies please refer to, [zsub_predict_ZRP.ipynb](https://github.com/zestai/zrp/blob/dev/examples/modeling/zsub_predict_ZRP.ipynb)\n",
    "\n",
    "\n",
    "### Advanced Data Prepartions and Modifications<a class=\"anchor\" id=\"ex-adv\"></a>\n",
    "\n",
    "This series of notebooks goes through how to make support lookup tables\n",
    "- To generate the lookup table(s) [advanced_data_prep_geo.ipynb](https://github.com/zestai/zrp/blob/dev/examples/prepare/advanced_data_prep_geo.ipynb)  \n",
    "- To parse the data please refer to, [advanced_data_prep_acs_parsing.ipynb](https://github.com/zestai/zrp/blob/dev/examples/prepare/advanced_data_prep_acs_parsing.ipynb)  \n",
    "- To generate the lookup table(s) please refer to, [advanced_data_prep_acs.ipynb](https://github.com/zestai/zrp/blob/dev/examples/prepare/advanced_data_prep_acs.ipynb)  \n",
    "\n"
   ]
  },
  {
   "cell_type": "markdown",
   "metadata": {},
   "source": [
    "## Troubleshooting<a class=\"anchor\" id=\"trbl\"></a>\n",
    "\n",
    "The [common_issues](https://github.com/zestai/zrp/blob/main/common_issues.rst) doc offers some insight into common problems encountered while using ZRP()."
   ]
  },
  {
   "cell_type": "markdown",
   "metadata": {},
   "source": [
    "## Additional Resources<a class=\"anchor\" id=\"readme\"></a>\n",
    "Please refer to the [README](https://github.com/zestai/zrp/blob/main/README.rst) for more details on the Zest Race Predictor"
   ]
  }
 ],
 "metadata": {
  "kernelspec": {
   "display_name": "ZRP (Q1 2022)",
   "language": "python",
   "name": "zrp_q1_22"
  },
  "language_info": {
   "codemirror_mode": {
    "name": "ipython",
    "version": 3
   },
   "file_extension": ".py",
   "mimetype": "text/x-python",
   "name": "python",
   "nbconvert_exporter": "python",
   "pygments_lexer": "ipython3",
   "version": "3.7.7"
  }
 },
 "nbformat": 4,
 "nbformat_minor": 4
}
