{
 "cells": [
  {
   "cell_type": "code",
   "execution_count": 1,
   "id": "4e86cd69",
   "metadata": {},
   "outputs": [],
   "source": [
    "%load_ext autoreload\n",
    "%autoreload 2\n",
    "%config Completer.use_jedi=False"
   ]
  },
  {
   "cell_type": "code",
   "execution_count": 2,
   "id": "2ae42e56",
   "metadata": {},
   "outputs": [
    {
     "name": "stderr",
     "output_type": "stream",
     "text": [
      "/Users/jay/opt/anaconda3/envs/zrp_test/lib/python3.9/site-packages/category_encoders/utils.py:5: DeprecationWarning: Please use `csr_matrix` from the `scipy.sparse` namespace, the `scipy.sparse.csr` namespace is deprecated.\n",
      "  from scipy.sparse.csr import csr_matrix\n"
     ]
    }
   ],
   "source": [
    "from os.path import join, expanduser, dirname\n",
    "import pandas as pd\n",
    "import sys\n",
    "import os\n",
    "import re\n",
    "import warnings\n",
    "\n",
    "warnings.filterwarnings(action='ignore')\n",
    "home = expanduser('~')\n",
    "\n",
    "src_path = '{}/zrp'.format(home)\n",
    "sys.path.append(src_path)\n",
    "\n",
    "from zrp.prepare.prepare import ZRP_Prepare\n",
    "from zrp.prepare.utils import load_file"
   ]
  },
  {
   "cell_type": "code",
   "execution_count": 3,
   "id": "7756cbc6",
   "metadata": {},
   "outputs": [],
   "source": [
    "nj_mayors  =  load_file(\"unit_test_data/2022-nj-mayors-sample.csv\")"
   ]
  },
  {
   "cell_type": "code",
   "execution_count": 4,
   "id": "1ea427e3",
   "metadata": {},
   "outputs": [],
   "source": [
    "prepare = ZRP_Prepare()\n",
    "## fit function just checkes the data quality \n",
    "prepare.fit(nj_mayors)"
   ]
  },
  {
   "cell_type": "code",
   "execution_count": 5,
   "id": "38e322cf",
   "metadata": {},
   "outputs": [
    {
     "ename": "NameError",
     "evalue": "name 'load_json' is not defined",
     "output_type": "error",
     "traceback": [
      "\u001b[0;31m---------------------------------------------------------------------------\u001b[0m",
      "\u001b[0;31mNameError\u001b[0m                                 Traceback (most recent call last)",
      "Cell \u001b[0;32mIn [5], line 1\u001b[0m\n\u001b[0;32m----> 1\u001b[0m lookup_tables_config \u001b[38;5;241m=\u001b[39m \u001b[43mload_json\u001b[49m(\u001b[38;5;124m\"\u001b[39m\u001b[38;5;124munit_test_data/lookup_tables_config.json\u001b[39m\u001b[38;5;124m\"\u001b[39m)\n\u001b[1;32m      2\u001b[0m \u001b[38;5;66;03m## loading inv_state_mapping file \u001b[39;00m\n\u001b[1;32m      3\u001b[0m inv_state_map \u001b[38;5;241m=\u001b[39m load_json(\u001b[38;5;124m\"\u001b[39m\u001b[38;5;124munit_test_data/inv_state_mapping.json\u001b[39m\u001b[38;5;124m\"\u001b[39m)\n",
      "\u001b[0;31mNameError\u001b[0m: name 'load_json' is not defined"
     ]
    }
   ],
   "source": [
    "lookup_tables_config = load_json(\"unit_test_data/lookup_tables_config.json\")\n",
    "## loading inv_state_mapping file \n",
    "inv_state_map = load_json(\"unit_test_data/inv_state_mapping.json\")"
   ]
  },
  {
   "cell_type": "code",
   "execution_count": 6,
   "id": "650408e2",
   "metadata": {},
   "outputs": [
    {
     "data": {
      "text/plain": [
       "'/Users/jay/Documents/Zrp_unit_tests/zrp/zrp/prepare/../data/processed/geo/2019/Zest_Geo_Lookup_2019_State_34.parquet'"
      ]
     },
     "execution_count": 6,
     "metadata": {},
     "output_type": "execute_result"
    }
   ],
   "source": [
    "'/Users/jay/Documents/Zrp_unit_tests/zrp/zrp/prepare/../data/processed/geo/2019/Zest_Geo_Lookup_2019_State_34.parquet'"
   ]
  },
  {
   "cell_type": "code",
   "execution_count": 9,
   "id": "0dfbe4d8",
   "metadata": {},
   "outputs": [
    {
     "data": {
      "text/plain": [
       "['.DS_Store', 'processed']"
      ]
     },
     "execution_count": 9,
     "metadata": {},
     "output_type": "execute_result"
    }
   ],
   "source": [
    "os.listdir('/Users/jay/Documents/Zrp_unit_tests/zrp/zrp/data')"
   ]
  },
  {
   "cell_type": "code",
   "execution_count": 36,
   "id": "21f82099",
   "metadata": {},
   "outputs": [],
   "source": [
    "curpath = '/Users/jay/Documents/zrp/zrp/prepare'\n",
    "data_path = join(curpath, f'../data/processed')"
   ]
  },
  {
   "cell_type": "code",
   "execution_count": 37,
   "id": "bf1000ff",
   "metadata": {},
   "outputs": [],
   "source": [
    "geo_folder = os.path.join(data_path, \"geo\", lookup_tables_config['geo_year'])\n",
    "acs_folder = os.path.join(data_path, 'acs', lookup_tables_config['acs_year'], lookup_tables_config['acs_span'])"
   ]
  },
  {
   "cell_type": "code",
   "execution_count": 38,
   "id": "76f3434e",
   "metadata": {},
   "outputs": [],
   "source": [
    "gen_process = ProcessStrings(file_path=prepare.file_path)"
   ]
  },
  {
   "cell_type": "code",
   "execution_count": 39,
   "id": "654f9f8b",
   "metadata": {},
   "outputs": [],
   "source": [
    "data = nj_mayors"
   ]
  },
  {
   "cell_type": "code",
   "execution_count": 40,
   "id": "5517b4ac",
   "metadata": {},
   "outputs": [
    {
     "name": "stdout",
     "output_type": "stream",
     "text": [
      "   [Start] Validating input data\n",
      "     Number of observations: 462\n",
      "     Is key unique: True\n",
      "       (Warning!!) middle_name is 68.3982683982684% missing\n",
      "Directory already exists\n",
      "   [Completed] Validating input data\n",
      "\n",
      "   Formatting P1\n",
      "   Formatting P2\n",
      "   reduce whitespace\n"
     ]
    }
   ],
   "source": [
    "gen_process.fit(data)\n",
    "data = gen_process.transform(data)"
   ]
  },
  {
   "cell_type": "code",
   "execution_count": 41,
   "id": "caff6b66",
   "metadata": {},
   "outputs": [],
   "source": [
    "inv_state_map = load_json(join(data_path, \"inv_state_mapping.json\"))"
   ]
  },
  {
   "cell_type": "code",
   "execution_count": 42,
   "id": "550b479f",
   "metadata": {},
   "outputs": [],
   "source": [
    "data['zest_in_state_fips'] = data[gen_process.state].replace(inv_state_map)"
   ]
  },
  {
   "cell_type": "code",
   "execution_count": 43,
   "id": "3b02ca88",
   "metadata": {},
   "outputs": [
    {
     "data": {
      "text/html": [
       "<div>\n",
       "<style scoped>\n",
       "    .dataframe tbody tr th:only-of-type {\n",
       "        vertical-align: middle;\n",
       "    }\n",
       "\n",
       "    .dataframe tbody tr th {\n",
       "        vertical-align: top;\n",
       "    }\n",
       "\n",
       "    .dataframe thead th {\n",
       "        text-align: right;\n",
       "    }\n",
       "</style>\n",
       "<table border=\"1\" class=\"dataframe\">\n",
       "  <thead>\n",
       "    <tr style=\"text-align: right;\">\n",
       "      <th></th>\n",
       "      <th>first_name</th>\n",
       "      <th>middle_name</th>\n",
       "      <th>last_name</th>\n",
       "      <th>house_number</th>\n",
       "      <th>street_address</th>\n",
       "      <th>city</th>\n",
       "      <th>state</th>\n",
       "      <th>zip_code</th>\n",
       "      <th>house_number_LEFT</th>\n",
       "      <th>house_number_RIGHT</th>\n",
       "      <th>zest_in_state_fips</th>\n",
       "    </tr>\n",
       "    <tr>\n",
       "      <th>ZEST_KEY</th>\n",
       "      <th></th>\n",
       "      <th></th>\n",
       "      <th></th>\n",
       "      <th></th>\n",
       "      <th></th>\n",
       "      <th></th>\n",
       "      <th></th>\n",
       "      <th></th>\n",
       "      <th></th>\n",
       "      <th></th>\n",
       "      <th></th>\n",
       "    </tr>\n",
       "  </thead>\n",
       "  <tbody>\n",
       "    <tr>\n",
       "      <th>2</th>\n",
       "      <td>GABE</td>\n",
       "      <td>None</td>\n",
       "      <td>PLUMER</td>\n",
       "      <td>782</td>\n",
       "      <td>FRENCHTOWN ROAD</td>\n",
       "      <td>MILFORD</td>\n",
       "      <td>NJ</td>\n",
       "      <td>08848</td>\n",
       "      <td></td>\n",
       "      <td>782</td>\n",
       "      <td>34</td>\n",
       "    </tr>\n",
       "    <tr>\n",
       "      <th>4</th>\n",
       "      <td>ARI</td>\n",
       "      <td>None</td>\n",
       "      <td>BERNSTEIN</td>\n",
       "      <td>500</td>\n",
       "      <td>WEST CRESCENT AVENUE</td>\n",
       "      <td>ALLENDALE</td>\n",
       "      <td>NJ</td>\n",
       "      <td>07401</td>\n",
       "      <td></td>\n",
       "      <td>500</td>\n",
       "      <td>34</td>\n",
       "    </tr>\n",
       "  </tbody>\n",
       "</table>\n",
       "</div>"
      ],
      "text/plain": [
       "         first_name middle_name  last_name house_number        street_address  \\\n",
       "ZEST_KEY                                                                        \n",
       "2              GABE        None     PLUMER          782       FRENCHTOWN ROAD   \n",
       "4               ARI        None  BERNSTEIN          500  WEST CRESCENT AVENUE   \n",
       "\n",
       "               city state zip_code house_number_LEFT house_number_RIGHT  \\\n",
       "ZEST_KEY                                                                  \n",
       "2           MILFORD    NJ    08848                                  782   \n",
       "4         ALLENDALE    NJ    07401                                  500   \n",
       "\n",
       "         zest_in_state_fips  \n",
       "ZEST_KEY                     \n",
       "2                        34  \n",
       "4                        34  "
      ]
     },
     "execution_count": 43,
     "metadata": {},
     "output_type": "execute_result"
    }
   ],
   "source": [
    "data.head(2)"
   ]
  },
  {
   "cell_type": "code",
   "execution_count": 44,
   "id": "d6fc3621",
   "metadata": {},
   "outputs": [],
   "source": [
    "# from zre.geo_geocoder import *\n",
    "geocode = ZGeo(file_path=gen_process.file_path)"
   ]
  },
  {
   "cell_type": "code",
   "execution_count": 45,
   "id": "3456cb91",
   "metadata": {},
   "outputs": [],
   "source": [
    "geo_grps = data.groupby([gen_process.state])"
   ]
  },
  {
   "cell_type": "code",
   "execution_count": 46,
   "id": "56129218",
   "metadata": {},
   "outputs": [
    {
     "name": "stdout",
     "output_type": "stream",
     "text": [
      "  The following states are included in the data: ['NJ']\n"
     ]
    }
   ],
   "source": [
    "geo_dict = {}\n",
    "for s, g in geo_grps:\n",
    "    geo_dict[s] = g\n",
    "gdkys = list(geo_dict.keys())\n",
    "print(\"  The following states are included in the data:\", gdkys)"
   ]
  },
  {
   "cell_type": "code",
   "execution_count": 47,
   "id": "9c1d98cc",
   "metadata": {},
   "outputs": [],
   "source": [
    " if not set(gdkys) <= set(list(inv_state_map.keys())):\n",
    "            raise ValueError(\"Provided unrecognizable state codes. Please use standard 2-letter abbreviation to indicate states to geocode, ex:'CA' for Californina\")\n"
   ]
  },
  {
   "cell_type": "code",
   "execution_count": 48,
   "id": "4ef316e7",
   "metadata": {},
   "outputs": [
    {
     "name": "stderr",
     "output_type": "stream",
     "text": [
      "  0%|                                                     | 0/1 [00:00<?, ?it/s]\n",
      "  0%|                                                   | 0/462 [00:00<?, ?it/s]\u001b[A[Parallel(n_jobs=-1)]: Using backend ThreadingBackend with 8 concurrent workers.\n",
      "[Parallel(n_jobs=-1)]: Done  34 tasks      | elapsed:    0.0s\n",
      "[Parallel(n_jobs=-1)]: Done 184 tasks      | elapsed:    0.0s\n",
      "[Parallel(n_jobs=-1)]: Done 434 tasks      | elapsed:    0.0s\n",
      "100%|██████████████████████████████████████| 462/462 [00:00<00:00, 22226.70it/s]\n",
      "[Parallel(n_jobs=-1)]: Done 462 out of 462 | elapsed:    0.0s finished\n"
     ]
    },
    {
     "name": "stdout",
     "output_type": "stream",
     "text": [
      "   ... on state: NJ\n",
      "\n",
      "   Data is loaded\n",
      "   [Start] Processing geo data\n",
      "      ...address cleaning\n",
      "      ...replicating address\n",
      "         ...Base\n",
      "         ...Number processing...\n",
      "         House number dataframe expansion is complete! (n=462)\n",
      "         ...Base\n",
      "         ...Map street suffixes...\n",
      "         ...Mapped & split by street suffixes...\n",
      "         ...Number processing...\n",
      "\n",
      "         Address dataframe expansion is complete! (n=900)\n",
      "      ...formatting\n",
      "   [Completed] Processing geo data\n",
      "   [Start] Mapping geo data\n",
      "      ...merge user input & lookup table\n",
      "      ...mapping\n"
     ]
    },
    {
     "name": "stderr",
     "output_type": "stream",
     "text": [
      "\r",
      "  0%|                                                     | 0/1 [00:03<?, ?it/s]"
     ]
    },
    {
     "name": "stdout",
     "output_type": "stream",
     "text": [
      "   [Completed] Validating input geo data\n",
      "Directory already exists\n",
      "...Output saved\n",
      "   [Completed] Mapping geo data\n"
     ]
    },
    {
     "name": "stderr",
     "output_type": "stream",
     "text": [
      "\n"
     ]
    },
    {
     "ename": "NameError",
     "evalue": "name 'geocode_out' is not defined",
     "output_type": "error",
     "traceback": [
      "\u001b[0;31m---------------------------------------------------------------------------\u001b[0m",
      "\u001b[0;31mNameError\u001b[0m                                 Traceback (most recent call last)",
      "Cell \u001b[0;32mIn [48], line 6\u001b[0m\n\u001b[1;32m      4\u001b[0m geo \u001b[38;5;241m=\u001b[39m inv_state_map[s]\u001b[38;5;241m.\u001b[39mzfill(\u001b[38;5;241m2\u001b[39m)\n\u001b[1;32m      5\u001b[0m output \u001b[38;5;241m=\u001b[39m geocode\u001b[38;5;241m.\u001b[39mtransform(geo_dict[s], geo, processed \u001b[38;5;241m=\u001b[39m \u001b[38;5;28;01mTrue\u001b[39;00m, replicate \u001b[38;5;241m=\u001b[39m \u001b[38;5;28;01mTrue\u001b[39;00m, save_table \u001b[38;5;241m=\u001b[39m \u001b[38;5;28;01mTrue\u001b[39;00m)\n\u001b[0;32m----> 6\u001b[0m \u001b[43mgeocode_out\u001b[49m\u001b[38;5;241m.\u001b[39mappend(output)\n\u001b[1;32m      7\u001b[0m \u001b[38;5;28;01mbreak\u001b[39;00m\n",
      "\u001b[0;31mNameError\u001b[0m: name 'geocode_out' is not defined"
     ]
    }
   ],
   "source": [
    "geo_out = [] \n",
    "for s in tqdm(gdkys):\n",
    "    print(\"   ... on state:\", str(s))\n",
    "    geo = inv_state_map[s].zfill(2)\n",
    "    output = geocode.transform(geo_dict[s], geo, processed = True, replicate = True, save_table = True)\n",
    "    geocode_out.append(output)\n",
    "    break"
   ]
  },
  {
   "cell_type": "code",
   "execution_count": null,
   "id": "2d13dfbe",
   "metadata": {},
   "outputs": [],
   "source": []
  }
 ],
 "metadata": {
  "kernelspec": {
   "display_name": "Python 3 (ipykernel)",
   "language": "python",
   "name": "python3"
  },
  "language_info": {
   "codemirror_mode": {
    "name": "ipython",
    "version": 3
   },
   "file_extension": ".py",
   "mimetype": "text/x-python",
   "name": "python",
   "nbconvert_exporter": "python",
   "pygments_lexer": "ipython3",
   "version": "3.9.15"
  }
 },
 "nbformat": 4,
 "nbformat_minor": 5
}
